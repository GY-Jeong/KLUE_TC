{
 "cells": [
  {
   "cell_type": "markdown",
   "metadata": {
    "id": "l9FgLlThkdub"
   },
   "source": [
    "**베이스라인 코드 (LB : 0.79167)**\n",
    "with dense layer model / tensorflow / keras"
   ]
  },
  {
   "cell_type": "markdown",
   "metadata": {
    "id": "HdWBQE7Rfzlh"
   },
   "source": [
    "**필요한 라이브러리 불러오기**"
   ]
  },
  {
   "cell_type": "code",
   "execution_count": 1,
   "metadata": {
    "id": "ocWL6LLqrLiD"
   },
   "outputs": [
    {
     "ename": "ModuleNotFoundError",
     "evalue": "No module named 'tensorflow'",
     "output_type": "error",
     "traceback": [
      "\u001b[1;31m---------------------------------------------------------------------------\u001b[0m",
      "\u001b[1;31mModuleNotFoundError\u001b[0m                       Traceback (most recent call last)",
      "\u001b[1;32m<ipython-input-1-38cc42148880>\u001b[0m in \u001b[0;36m<module>\u001b[1;34m\u001b[0m\n\u001b[0;32m      5\u001b[0m \u001b[1;32mfrom\u001b[0m \u001b[0msklearn\u001b[0m\u001b[1;33m.\u001b[0m\u001b[0mfeature_extraction\u001b[0m\u001b[1;33m.\u001b[0m\u001b[0mtext\u001b[0m \u001b[1;32mimport\u001b[0m \u001b[0mTfidfVectorizer\u001b[0m\u001b[1;33m\u001b[0m\u001b[1;33m\u001b[0m\u001b[0m\n\u001b[0;32m      6\u001b[0m \u001b[1;33m\u001b[0m\u001b[0m\n\u001b[1;32m----> 7\u001b[1;33m \u001b[1;32mimport\u001b[0m \u001b[0mtensorflow\u001b[0m \u001b[1;32mas\u001b[0m \u001b[0mtf\u001b[0m\u001b[1;33m\u001b[0m\u001b[1;33m\u001b[0m\u001b[0m\n\u001b[0m\u001b[0;32m      8\u001b[0m \u001b[1;32mfrom\u001b[0m \u001b[0mtensorflow\u001b[0m\u001b[1;33m.\u001b[0m\u001b[0mkeras\u001b[0m\u001b[1;33m.\u001b[0m\u001b[0mlayers\u001b[0m \u001b[1;32mimport\u001b[0m \u001b[0mInput\u001b[0m\u001b[1;33m,\u001b[0m \u001b[0mDense\u001b[0m\u001b[1;33m,\u001b[0m \u001b[0mBatchNormalization\u001b[0m\u001b[1;33m,\u001b[0m \u001b[0mDropout\u001b[0m\u001b[1;33m\u001b[0m\u001b[1;33m\u001b[0m\u001b[0m\n\u001b[0;32m      9\u001b[0m \u001b[1;32mfrom\u001b[0m \u001b[0mtensorflow\u001b[0m\u001b[1;33m.\u001b[0m\u001b[0mkeras\u001b[0m \u001b[1;32mimport\u001b[0m \u001b[0mSequential\u001b[0m\u001b[1;33m\u001b[0m\u001b[1;33m\u001b[0m\u001b[0m\n",
      "\u001b[1;31mModuleNotFoundError\u001b[0m: No module named 'tensorflow'"
     ]
    }
   ],
   "source": [
    "import pandas as pd\n",
    "import numpy as np\n",
    "import re\n",
    "\n",
    "from sklearn.feature_extraction.text import TfidfVectorizer\n",
    "\n",
    "import tensorflow as tf\n",
    "from tensorflow.keras.layers import Input, Dense, BatchNormalization, Dropout\n",
    "from tensorflow.keras import Sequential"
   ]
  },
  {
   "cell_type": "markdown",
   "metadata": {
    "id": "z3lgUFGgf-v8"
   },
   "source": [
    "**데이터 불러오기**"
   ]
  },
  {
   "cell_type": "code",
   "execution_count": null,
   "metadata": {
    "id": "tCjOpb7urqtY"
   },
   "outputs": [],
   "source": [
    "train      = pd.read_csv(\"./open/train_data.csv\")\n",
    "test       = pd.read_csv(\"./open/test_data.csv\")\n",
    "submission = pd.read_csv(\"./open/sample_submission.csv\")\n",
    "topic_dict = pd.read_csv(\"./open/topic_dict.csv\")"
   ]
  },
  {
   "cell_type": "markdown",
   "metadata": {
    "id": "KRitbh13gLVN"
   },
   "source": [
    "**데이터 전처리**"
   ]
  },
  {
   "cell_type": "code",
   "execution_count": null,
   "metadata": {
    "id": "owoBBPoOsJdu"
   },
   "outputs": [],
   "source": [
    "def clean_text(sent):\n",
    "  sent_clean = re.sub(\"[^가-힣ㄱ-ㅎㅏ-ㅣ\\\\s]\", \" \", sent)\n",
    "  return sent_clean\n",
    "\n",
    "train[\"cleaned_title\"] = train[\"title\"].apply(lambda x : clean_text(x))\n",
    "test[\"cleaned_title\"]  = test[\"title\"].apply(lambda x : clean_text(x))\n",
    "\n",
    "train_text = train[\"cleaned_title\"].tolist()\n",
    "test_text = test[\"cleaned_title\"].tolist()\n",
    "train_label = np.asarray(train.topic_idx)\n",
    "\n",
    "tfidf = TfidfVectorizer(analyzer='word', sublinear_tf=True, ngram_range=(1, 2), max_features=150000, binary=False)\n",
    "\n",
    "tfidf.fit(train_text)\n",
    "\n",
    "train_tf_text = tfidf.transform(train_text).astype('float32')\n",
    "test_tf_text  = tfidf.transform(test_text).astype('float32')"
   ]
  },
  {
   "cell_type": "markdown",
   "metadata": {
    "id": "cmiuTAzhgUz4"
   },
   "source": [
    "**Model**"
   ]
  },
  {
   "cell_type": "code",
   "execution_count": null,
   "metadata": {
    "id": "DRgi8OQ9ufV8"
   },
   "outputs": [],
   "source": [
    "def dnn_model():\n",
    "  model = Sequential()\n",
    "  model.add(Dense(128, input_dim = 150000, activation = \"relu\"))\n",
    "  model.add(Dropout(0.8))\n",
    "  model.add(Dense(7, activation = \"softmax\"))\n",
    "  return model"
   ]
  },
  {
   "cell_type": "code",
   "execution_count": null,
   "metadata": {
    "id": "4KnRUv9Au5Nq"
   },
   "outputs": [],
   "source": [
    "model = dnn_model()\n",
    "model.compile(loss = 'sparse_categorical_crossentropy', optimizer = tf.optimizers.Adam(0.001), metrics = ['accuracy'])"
   ]
  },
  {
   "cell_type": "code",
   "execution_count": null,
   "metadata": {
    "colab": {
     "base_uri": "https://localhost:8080/"
    },
    "executionInfo": {
     "elapsed": 68495,
     "status": "ok",
     "timestamp": 1625116883114,
     "user": {
      "displayName": "김동하",
      "photoUrl": "",
      "userId": "04935199799077425324"
     },
     "user_tz": -540
    },
    "id": "P2ENWxvHvJQ9",
    "outputId": "8a66452c-2ddf-48e4-a0c8-f5d741a104c8"
   },
   "outputs": [],
   "source": [
    "history = model.fit(x = train_tf_text[:40000], y = train_label[:40000],\n",
    "                    validation_data =(train_tf_text[40000:], train_label[40000:]),\n",
    "                    epochs = 4)"
   ]
  },
  {
   "cell_type": "markdown",
   "metadata": {
    "id": "FHIYmMr6iBFI"
   },
   "source": [
    "**Predict**"
   ]
  },
  {
   "cell_type": "code",
   "execution_count": null,
   "metadata": {
    "id": "_IOhnY8d7LAa"
   },
   "outputs": [],
   "source": [
    "tmp_pred = model.predict(test_tf_text)\n",
    "pred = np.argmax(tmp_pred, axis = 1)"
   ]
  },
  {
   "cell_type": "code",
   "execution_count": null,
   "metadata": {
    "colab": {
     "base_uri": "https://localhost:8080/",
     "height": 142
    },
    "executionInfo": {
     "elapsed": 324,
     "status": "ok",
     "timestamp": 1625116930781,
     "user": {
      "displayName": "김동하",
      "photoUrl": "",
      "userId": "04935199799077425324"
     },
     "user_tz": -540
    },
    "id": "NhJCSBZ5-lH3",
    "outputId": "08a8e750-2863-42ae-8494-9b6d65c276d1"
   },
   "outputs": [],
   "source": [
    "submission.topic_idx = pred\n",
    "submission.sample(3)"
   ]
  },
  {
   "cell_type": "code",
   "execution_count": null,
   "metadata": {
    "id": "EGnwGFhW-82V"
   },
   "outputs": [],
   "source": [
    "#submission.to_csv(path, index = False)"
   ]
  }
 ],
 "metadata": {
  "accelerator": "GPU",
  "colab": {
   "authorship_tag": "ABX9TyOp+cYu5HO1Juu/TzQAEwsd",
   "collapsed_sections": [],
   "mount_file_id": "1cQiNqh_d0O6DrI3BnB8OrOzE9FiREnRm",
   "name": "KLUE_CNN.ipynb",
   "provenance": []
  },
  "kernelspec": {
   "display_name": "Python 3",
   "language": "python",
   "name": "python3"
  },
  "language_info": {
   "codemirror_mode": {
    "name": "ipython",
    "version": 3
   },
   "file_extension": ".py",
   "mimetype": "text/x-python",
   "name": "python",
   "nbconvert_exporter": "python",
   "pygments_lexer": "ipython3",
   "version": "3.8.5"
  }
 },
 "nbformat": 4,
 "nbformat_minor": 4
}
